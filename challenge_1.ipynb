{
  "nbformat": 4,
  "nbformat_minor": 0,
  "metadata": {
    "colab": {
      "provenance": [],
      "include_colab_link": true
    },
    "kernelspec": {
      "name": "python3",
      "display_name": "Python 3"
    },
    "language_info": {
      "name": "python"
    }
  },
  "cells": [
    {
      "cell_type": "markdown",
      "metadata": {
        "id": "view-in-github",
        "colab_type": "text"
      },
      "source": [
        "<a href=\"https://colab.research.google.com/github/chayan-mann/BYTE-ML-CHALLENGES/blob/main/challenge_1.ipynb\" target=\"_parent\"><img src=\"https://colab.research.google.com/assets/colab-badge.svg\" alt=\"Open In Colab\"/></a>"
      ]
    },
    {
      "cell_type": "markdown",
      "source": [
        "# ***Problem statement***\n",
        "\n",
        "\n",
        "1.   you are provided with a .csv file which contains experience of the employee (in months) and the salary of the employee (in thousand).\n",
        "2.   Your task is to help the employer in predicting the salary he has to give to a employee based on his past experience\n",
        "3. For this you need to understand the basic principle and functionining of linear regression and complete the functions below.\n",
        "4. IT IS IMPORTANT TO COMPLETE EVERY BLOCK OF CODE IN THIS COLAB FILE ."
      ],
      "metadata": {
        "id": "KNIPiXrxZqfO"
      }
    },
    {
      "cell_type": "markdown",
      "source": [
        "# **Packages**"
      ],
      "metadata": {
        "id": "8qeCfaccZsaZ"
      }
    },
    {
      "cell_type": "code",
      "source": [
        "import numpy as np\n",
        "import pandas as pd\n",
        "import matplotlib.pyplot as plt\n",
        "import math\n",
        "import copy"
      ],
      "metadata": {
        "id": "ebvnIRpvMJYB"
      },
      "execution_count": null,
      "outputs": []
    },
    {
      "cell_type": "markdown",
      "source": [
        " **import data file**\n",
        "\n",
        " **clean the data upto 2 decimal places for both experience and salary columns**\n",
        "\n",
        "**test size = 20%**\n",
        "\n",
        "**reshape the values by using concept of feature matrix**"
      ],
      "metadata": {
        "id": "N-X4Gc1vZ1uV"
      }
    },
    {
      "cell_type": "code",
      "source": [
        "\n",
        "#implement this code on your own\n",
        "data = pd.read_csv(\"Experience-Salary.csv\")\n",
        "\n",
        "# initialising the X and y variables\n",
        "X = data.iloc[:, :-1].values\n",
        "y = data.iloc[:, -1].values\n",
        "\n",
        "#  code starts here\n",
        "\n",
        "#rounding off the values to 2 decimal places\n",
        "data.round(2)\n",
        "\n",
        "# splitting train-test to a ratio of 8:2\n",
        "from sklearn.model_selection import train_test_split\n",
        "X_train, X_test, y_train, y_test = train_test_split(X, y, test_size = 0.2, random_state = 1)\n",
        "\n",
        "#reshaping the X to 2D array\n",
        "X = np.c_[np.ones(len(X)), X]\n",
        "X= X.T\n",
        "# code ends here"
      ],
      "metadata": {
        "id": "a0XfWVdgMVEi"
      },
      "execution_count": null,
      "outputs": []
    },
    {
      "cell_type": "code",
      "source": [
        "X.shape"
      ],
      "metadata": {
        "colab": {
          "base_uri": "https://localhost:8080/"
        },
        "id": "2dDoFlN3nDZf",
        "outputId": "ab6e54b2-2b78-49f5-db5e-c8d9c4757211"
      },
      "execution_count": null,
      "outputs": [
        {
          "output_type": "execute_result",
          "data": {
            "text/plain": [
              "(2, 1000)"
            ]
          },
          "metadata": {},
          "execution_count": 60
        }
      ]
    },
    {
      "cell_type": "code",
      "source": [
        "# Run this code without making any changes\n",
        "\n",
        "\n",
        "# !!!!       IMP   !!!!!!!\n",
        "# X_train refers to the training data ( experience) for the model\n",
        "# y_train refers to the training data (salary )   for the model\n",
        "\n",
        "\n",
        "\n",
        "\n",
        "\n",
        "print(\"Type of x_train:\",type(X_train))\n",
        "print(\"First five elements of X_train are:\\n\", X_train[:5])\n",
        "print(\"Type of y_train:\",type(y_train))\n",
        "print(\"First five elements of y_train are:\\n\", y_train[:5])\n",
        "print ('The shape of X_train is:', X_train.shape)\n",
        "print ('The shape of y_train is: ', y_train.shape)\n",
        "print ('Number of training examples (m):', len(X_train))"
      ],
      "metadata": {
        "id": "k4SpESsHaBfV",
        "colab": {
          "base_uri": "https://localhost:8080/"
        },
        "outputId": "e320e2f7-1332-4a19-c286-964d225c8b2f"
      },
      "execution_count": null,
      "outputs": [
        {
          "output_type": "stream",
          "name": "stdout",
          "text": [
            "Type of x_train: <class 'numpy.ndarray'>\n",
            "First five elements of X_train are:\n",
            " [[18.31730358]\n",
            " [21.89419893]\n",
            " [38.32040367]\n",
            " [43.27144687]\n",
            " [36.87830472]]\n",
            "Type of y_train: <class 'numpy.ndarray'>\n",
            "First five elements of y_train are:\n",
            " [25.10900501 17.58426055 35.24023173 52.85914566 25.32318858]\n",
            "The shape of X_train is: (800, 1)\n",
            "The shape of y_train is:  (800,)\n",
            "Number of training examples (m): 800\n"
          ]
        }
      ]
    },
    {
      "cell_type": "markdown",
      "source": [
        " Plot the data using scatter plot\n",
        "\n"
      ],
      "metadata": {
        "id": "UbvfFHJeaLdt"
      }
    },
    {
      "cell_type": "code",
      "source": [
        "#plot data for visualisation\n",
        "\n",
        "###code starts here\n",
        "plt.scatter(X_train, y_train, color='blue', label='Training Data')\n",
        "plt.title('Linear Regression Training Model')\n",
        "plt.xlabel('X')\n",
        "plt.ylabel('y')\n",
        "plt.legend()\n",
        "plt.show()\n",
        "###code ends here"
      ],
      "metadata": {
        "id": "d2m_1Ls_NZEX",
        "colab": {
          "base_uri": "https://localhost:8080/",
          "height": 472
        },
        "outputId": "0ab06675-ce3e-40ef-e769-3599c3ef784e"
      },
      "execution_count": null,
      "outputs": [
        {
          "output_type": "display_data",
          "data": {
            "text/plain": [
              "<Figure size 640x480 with 1 Axes>"
            ],
            "image/png": "[encoded data removed]"
          },
          "metadata": {}
        }
      ]
    },
    {
      "cell_type": "markdown",
      "source": [
        "**Implementation 1**\n",
        "\n",
        "**complete the compute_cost() function below to compute the cost  𝐽(𝑤,𝑏)\n",
        " .**"
      ],
      "metadata": {
        "id": "Mvsnf95XaSUS"
      }
    },
    {
      "cell_type": "code",
      "source": [
        "X_train.shape"
      ],
      "metadata": {
        "colab": {
          "base_uri": "https://localhost:8080/"
        },
        "id": "IAi9ip_h5Ssb",
        "outputId": "e95bc4dc-1b8d-4ddc-ea43-3d373f9e480f"
      },
      "execution_count": null,
      "outputs": [
        {
          "output_type": "execute_result",
          "data": {
            "text/plain": [
              "(2, 800)"
            ]
          },
          "metadata": {},
          "execution_count": 47
        }
      ]
    },
    {
      "cell_type": "code",
      "source": [
        "\n",
        "\n",
        "\n",
        "def compute_cost(x, y, w, b):\n",
        "    \"\"\"\n",
        "    Computes the cost function for linear regression.\n",
        "\n",
        "    Args:\n",
        "        x (ndarray): Shape (m,) Input to the model (experience in months)\n",
        "        y (ndarray): Shape (m,) Label (Actual salaries)\n",
        "        w, b (scalar): Parameters of the model\n",
        "\n",
        "    Returns\n",
        "        total_cost (float): The cost of using w,b as the parameters for linear regression\n",
        "               to fit the data points in x and y\n",
        "    \"\"\"\n",
        "    # number of training examples\n",
        "    m = x.shape[0]\n",
        "\n",
        "    # You need to return this variable correctly\n",
        "    total_cost = 0\n",
        "\n",
        "    ### START CODE HERE ###\n",
        "\n",
        "\n",
        "    hypothesis = np.dot(X_train, w) + b\n",
        "\n",
        "    total_cost = (1/(2*m)) * np.sum((hypothesis- y)**2)\n",
        "\n",
        "\n",
        "\n",
        "\n",
        "\n",
        "\n",
        "\n",
        "\n",
        "    ### END CODE HERE ###\n",
        "\n",
        "    return total_cost"
      ],
      "metadata": {
        "id": "5xjs02htOBkv"
      },
      "execution_count": null,
      "outputs": []
    },
    {
      "cell_type": "code",
      "source": [
        "# Compute cost with some initial values for paramaters w, b\n",
        "# Do not change the values in this code , simply run this block\n",
        "initial_w = 0.9998\n",
        "initial_b = 1\n",
        "\n",
        "cost = compute_cost(X_train, y_train, initial_w, initial_b)\n",
        "print(type(cost))\n",
        "print(cost)\n",
        "\n",
        "\n",
        "#output for cost should be around 14.406"
      ],
      "metadata": {
        "id": "iSt1tnddOH9b",
        "colab": {
          "base_uri": "https://localhost:8080/"
        },
        "outputId": "6237037a-12cc-4495-e7e2-d1642c06119d"
      },
      "execution_count": null,
      "outputs": [
        {
          "output_type": "stream",
          "name": "stdout",
          "text": [
            "<class 'numpy.float64'>\n",
            "60756.23571983662\n"
          ]
        }
      ]
    },
    {
      "cell_type": "markdown",
      "source": [
        "**Imlementation 2**\n",
        "\n",
        "\n",
        "**implement a function called compute_gradient which calculates  ∂𝐽(𝑤)∂𝑤\n",
        " ,  ∂𝐽(𝑤)∂𝑏**"
      ],
      "metadata": {
        "id": "hHtMa0UxavUE"
      }
    },
    {
      "cell_type": "code",
      "source": [
        "def compute_gradient(x, y, w, b):\n",
        "    \"\"\"\n",
        "    Computes the gradient for linear regression\n",
        "    Args:\n",
        "      x (ndarray): Shape (m,) Input to the model (Population of cities)\n",
        "      y (ndarray): Shape (m,) Label (Actual profits for the cities)\n",
        "      w, b (scalar): Parameters of the model\n",
        "    Returns\n",
        "      dj_dw (scalar): The gradient of the cost w.r.t. the parameters w\n",
        "      dj_db (scalar): The gradient of the cost w.r.t. the parameter b\n",
        "     \"\"\"\n",
        "\n",
        "    # Number of training examples\n",
        "    m = x.shape[0]\n",
        "    dj_dw = 0\n",
        "    dj_db = 0\n",
        "\n",
        "    ### START CODE HERE ###\n",
        "    for xi , yi in zip (x,y):\n",
        "      dj_dw += -2*xi*(yi-(w*xi+b))\n",
        "      dj_db += -2*(yi-(w*xi+b))\n",
        "\n",
        "    ### END CODE HERE ###\n",
        "\n",
        "    return dj_dw, dj_db"
      ],
      "metadata": {
        "id": "sPdeLd36OprD"
      },
      "execution_count": null,
      "outputs": []
    },
    {
      "cell_type": "code",
      "source": [
        "initial_w = 0.998\n",
        "initial_b = 1\n",
        "\n",
        "tmp_dj_dw, tmp_dj_db = compute_gradient(X_train, y_train, initial_w, initial_b)\n",
        "print('Gradient at initial w, b (zeros):', tmp_dj_dw, tmp_dj_db)\n",
        "\n",
        "# output should be\n",
        "#Gradient at initial w, b (zeros): [22.08482317] [0.36802405]"
      ],
      "metadata": {
        "id": "HpFMpdz3apMN",
        "colab": {
          "base_uri": "https://localhost:8080/"
        },
        "outputId": "7e47be25-e814-4f6d-e899-404fa7bb9b7c"
      },
      "execution_count": null,
      "outputs": [
        {
          "output_type": "stream",
          "name": "stdout",
          "text": [
            "Gradient at initial w, b (zeros): [35935.77326495] [510.90076266]\n"
          ]
        }
      ]
    },
    {
      "cell_type": "code",
      "source": [
        "test_w = 0.2\n",
        "test_b = 0.2\n",
        "tmp_dj_dw, tmp_dj_db = compute_gradient(X_train, y_train, test_w, test_b)\n",
        "\n",
        "print('Gradient at test w, b:', tmp_dj_dw, tmp_dj_db)\n",
        "\n",
        "#output should be\n",
        "#Gradient at test w, b: [-600.2060557] [-21.2052925]"
      ],
      "metadata": {
        "id": "LmTTHbvta8Jb",
        "colab": {
          "base_uri": "https://localhost:8080/"
        },
        "outputId": "057e7fec-e0f9-4321-b606-6b3dadd1e68e"
      },
      "execution_count": null,
      "outputs": [
        {
          "output_type": "stream",
          "name": "stdout",
          "text": [
            "Gradient at test w, b: [-956521.49885098] [-33954.48823054]\n"
          ]
        }
      ]
    },
    {
      "cell_type": "markdown",
      "source": [
        "**!! do not change the below function just run it**"
      ],
      "metadata": {
        "id": "TicRvanCiaUd"
      }
    },
    {
      "cell_type": "code",
      "source": [
        "\n",
        "def gradient_descent(x, y, w_in, b_in, cost_function, gradient_function, alpha, num_iters):\n",
        "    m = len(x)\n",
        "    J_history = []\n",
        "    w_history = []\n",
        "    w = copy.deepcopy(w_in)\n",
        "    b = b_in\n",
        "    for i in range(num_iters):\n",
        "        dj_dw, dj_db = gradient_function(x, y, w, b )\n",
        "        w = w - alpha * dj_dw\n",
        "        b = b - alpha * dj_db\n",
        "        if i<100000:\n",
        "            cost =  cost_function(x, y, w, b)\n",
        "            J_history.append(cost)\n",
        "        if i% math.ceil(num_iters/10) == 0:\n",
        "            w_history.append(w)\n",
        "            print(f\"Iteration {i:4}: Cost {float(J_history[-1]):8.2f}   \")\n",
        "    return w, b, J_history, w_history"
      ],
      "metadata": {
        "id": "GE4SDXh4bB1X"
      },
      "execution_count": null,
      "outputs": []
    },
    {
      "cell_type": "markdown",
      "source": [
        " **Now let's run the gradient descent algorithm above to learn the parameters for our dataset.**"
      ],
      "metadata": {
        "id": "Bc1f_EKlbGW4"
      }
    },
    {
      "cell_type": "code",
      "source": [
        "# you can alter the values of iterations, alpha to get the minimum cost and minimum values for w and b\n",
        "\n",
        "\n",
        "# initialize fitting parameters. Recall that the shape of w is (n,)\n",
        "initial_w = 0.\n",
        "initial_b = 0.\n",
        "\n",
        "# some gradient descent settings\n",
        "iterations = 2500\n",
        "alpha = 0.0001\n",
        "\n",
        "w,b,_,_ = gradient_descent(X_train ,y_train, initial_w, initial_b,\n",
        "                     compute_cost, compute_gradient, alpha, iterations)\n",
        "print(\"w,b found by gradient descent:\", w, b)"
      ],
      "metadata": {
        "id": "_hzhg0bdbGi9",
        "colab": {
          "base_uri": "https://localhost:8080/"
        },
        "outputId": "2bd9968e-a053-4b79-f111-ee8cc65674fc"
      },
      "execution_count": null,
      "outputs": [
        {
          "output_type": "stream",
          "name": "stdout",
          "text": [
            "Iteration    0: Cost 5379114.21   \n"
          ]
        },
        {
          "output_type": "stream",
          "name": "stderr",
          "text": [
            "/usr/local/lib/python3.10/dist-packages/numpy/core/fromnumeric.py:88: RuntimeWarning: overflow encountered in reduce\n",
            "  return ufunc.reduce(obj, axis, dtype, out, **passkwargs)\n",
            "<ipython-input-63-5441d12db2e7>:25: RuntimeWarning: overflow encountered in square\n",
            "  total_cost = (1/(2*m)) * np.sum((hypothesis- y)**2)\n",
            "<ipython-input-65-14a2916f2e3d>:20: RuntimeWarning: overflow encountered in add\n",
            "  dj_dw += -2*xi*(yi-(w*xi+b))\n",
            "<ipython-input-68-1f4a45cf43af>:9: RuntimeWarning: invalid value encountered in subtract\n",
            "  w = w - alpha * dj_dw\n"
          ]
        },
        {
          "output_type": "stream",
          "name": "stdout",
          "text": [
            "Iteration  250: Cost      nan   \n",
            "Iteration  500: Cost      nan   \n",
            "Iteration  750: Cost      nan   \n",
            "Iteration 1000: Cost      nan   \n",
            "Iteration 1250: Cost      nan   \n",
            "Iteration 1500: Cost      nan   \n",
            "Iteration 1750: Cost      nan   \n",
            "Iteration 2000: Cost      nan   \n",
            "Iteration 2250: Cost      nan   \n",
            "w,b found by gradient descent: [nan] [nan]\n"
          ]
        }
      ]
    },
    {
      "cell_type": "markdown",
      "source": [
        "**Train the model**"
      ],
      "metadata": {
        "id": "3cT9bBALbN_W"
      }
    },
    {
      "cell_type": "code",
      "source": [
        "# execute the code to predict the output values on the given imput of numpy arrays\n",
        "# do not alter the code just execute it\n",
        "m = X_train.shape[0]\n",
        "predicted = np.zeros(m)\n",
        "\n",
        "for i in range(m):\n",
        "    predicted[i] = w * X_train[i] + b"
      ],
      "metadata": {
        "id": "qAlMyoy1bOLi",
        "colab": {
          "base_uri": "https://localhost:8080/"
        },
        "outputId": "3ed90551-5cbc-4222-9fc7-bb5be7d3057b"
      },
      "execution_count": null,
      "outputs": [
        {
          "output_type": "stream",
          "name": "stderr",
          "text": [
            "<ipython-input-70-e13a08243ee5>:7: DeprecationWarning: Conversion of an array with ndim > 0 to a scalar is deprecated, and will error in future. Ensure you extract a single element from your array before performing this operation. (Deprecated NumPy 1.25.)\n",
            "  predicted[i] = w * X_train[i] + b\n"
          ]
        }
      ]
    },
    {
      "cell_type": "markdown",
      "source": [
        "**plot the predicted values to see the linear fit.**"
      ],
      "metadata": {
        "id": "XbgzCEZbi4rW"
      }
    },
    {
      "cell_type": "code",
      "source": [
        "# Plot the linear fit\n",
        "\n",
        "###code starts here\n",
        "\n",
        "\n",
        "plt.scatter(X_train[:, 0], y_train, label='Training set')\n",
        "plt.plot(X[1, :], y, label='Test set')\n",
        "plt.legend(loc='upper left')\n",
        "plt.show()\n",
        "\n",
        "\n",
        "\n",
        "\n",
        "\n",
        "\n",
        "\n",
        "\n",
        "\n",
        "\n",
        "###code ends here\n"
      ],
      "metadata": {
        "id": "PywvzENQbSW6",
        "colab": {
          "base_uri": "https://localhost:8080/",
          "height": 430
        },
        "outputId": "ba8f7bb3-f416-4511-bd1b-49b77feede7d"
      },
      "execution_count": null,
      "outputs": [
        {
          "output_type": "display_data",
          "data": {
            "text/plain": [
              "<Figure size 640x480 with 1 Axes>"
            ],
            "image/png": "[encoded data removed]"
          },
          "metadata": {}
        }
      ]
    },
    {
      "cell_type": "markdown",
      "source": [
        "**output on input values**\n",
        "\n",
        "**Predict output on input values(in months) [17.0,50.0]**"
      ],
      "metadata": {
        "id": "tbAiwo3BbZIW"
      }
    },
    {
      "cell_type": "code",
      "source": [
        "###code starts here\n",
        "\n",
        "\n",
        "###code ends here"
      ],
      "metadata": {
        "id": "tbV22QAIbbtU"
      },
      "execution_count": null,
      "outputs": []
    }
  ]
}